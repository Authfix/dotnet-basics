{
 "cells": [
  {
   "cell_type": "markdown",
   "metadata": {},
   "source": [
    "# Les classes\n",
    "\n",
    "## Le constructeur\n",
    "\n",
    "Cette fonction particulière est appelée lors de la création de l'instance d'un objet via l'opérateur **new**. Le but du constructeur est **d'initialiser les champs d'un objet**. Il est de sa charge de vérifier et valider que les paramètres sont conformes à ce qui est attendu par la classe. Il s'agira de lever une exception si un paramètre est null ou incorrect. "
   ]
  },
  {
   "cell_type": "code",
   "execution_count": null,
   "metadata": {
    "dotnet_interactive": {
     "language": "csharp"
    }
   },
   "outputs": [],
   "source": [
    "internal class User \n",
    "{\n",
    "    private string _name;\n",
    "    private readonly Guid _id;\n",
    "\n",
    "    public User(string name)\n",
    "    {\n",
    "        _name = string.IsNullOrEmpty(name) ? throw new ArgumentNullException(nameof(name)) : name;\n",
    "        _id = Guid.NewGuid();\n",
    "    }\n",
    "\n",
    "    public string Name\n",
    "    {\n",
    "        get { return _name; }\n",
    "    }\n",
    "}\n",
    "\n",
    "var user1 = new User(\"John\");"
   ]
  },
  {
   "cell_type": "markdown",
   "metadata": {},
   "source": [
    "Si une classe ne déclare par de constructeur, **le compilateur en générera un par défaut**, sans paramètres. Les membres seront donc **initialisés avec leurs valeurs par défaut**."
   ]
  },
  {
   "cell_type": "code",
   "execution_count": null,
   "metadata": {
    "dotnet_interactive": {
     "language": "csharp"
    }
   },
   "outputs": [
    {
     "name": "stdout",
     "output_type": "stream",
     "text": [
      "00000000-0000-0000-0000-000000000000\r\n"
     ]
    }
   ],
   "source": [
    "internal class Machine\n",
    "{\n",
    "    public Guid Id { get;}\n",
    "}\n",
    "\n",
    "var machine1 = new Machine();\n",
    "\n",
    "Console.WriteLine(machine1.Id);"
   ]
  },
  {
   "cell_type": "markdown",
   "metadata": {
    "dotnet_interactive": {
     "language": "csharp"
    }
   },
   "source": [
    "## Les membres statiques\n",
    "\n",
    "Avec le mot clé **static**, vous pouvez déclarer des membres qui ne **dépendront pas d'une instance particulière de la classe**. Il n'est donc pas possible d'utiliser le mot clé **this** ou d'accéder aux membres \"classiques\" de l'instance depuis un membre statique.\n",
    "\n",
    "Attention cependant, le mot clé static **peut rendre les tests difficiles** et rendre compliqué la gestion de l'état."
   ]
  },
  {
   "cell_type": "code",
   "execution_count": null,
   "metadata": {
    "dotnet_interactive": {
     "language": "csharp"
    }
   },
   "outputs": [],
   "source": [
    "public class Enemy \n",
    "{\n",
    "    public Enemy()\n",
    "    {\n",
    "        NbEnemies++;\n",
    "    }\n",
    "\n",
    "    public static int NbEnemies { get; private set; } = 0;\n",
    "}\n",
    "\n",
    "var e1 = new Enemy();\n",
    "var e2 = new Enemy();\n",
    "\n",
    "Console.WriteLine(Enemy.NbEnemies);"
   ]
  },
  {
   "cell_type": "markdown",
   "metadata": {},
   "source": [
    "# Les listes\n",
    "\n",
    "**Une liste est une classe générique** (représentée par des chevrons) qui permet de gérer un ensemble d'objets d'un même type."
   ]
  },
  {
   "cell_type": "code",
   "execution_count": null,
   "metadata": {
    "dotnet_interactive": {
     "language": "csharp"
    }
   },
   "outputs": [],
   "source": [
    "internal class Animal\n",
    "{\n",
    "    public Animal(string name)\n",
    "    {\n",
    "        Name = name;\n",
    "    }\n",
    "\n",
    "    public string Name { get; private set; }\n",
    "}\n",
    "\n",
    "var animalList = new List<Animal>();\n",
    "animalList.Add(new Animal(\"John\"));\n",
    "\n",
    "Console.WriteLine($\"There is {animalList.Count} animal(s) in the list\");"
   ]
  },
  {
   "cell_type": "markdown",
   "metadata": {
    "dotnet_interactive": {
     "language": "csharp"
    }
   },
   "source": [
    "# Exercice\n",
    "\n",
    "Créer une application console (dotnet 5.0 ou dotnet 6.0) qui permet de gérer un garage virtuel.\n",
    "\n",
    "## Structure\n",
    "\n",
    "L'application doit au moins posséder le class Garage qui est la classe qui va permettre de gérer son garage. Cette classe ne doit pas contenir d'appels à Console.WriteLine\n",
    "\n",
    "## Règles\n",
    "\n",
    "Il est possible d'effectuer les opérations suivantes au sein de l'application :\n",
    "1. Ajouter un nouveau véhicule dans le garage\n",
    "2. Enlever un véhicule du garage\n",
    "3. Mettre à jour l'état d'un véhicule\n",
    "4. Lister les véhicules actuellement dans le garage\n",
    "5. Quitter l'application\n",
    "\n",
    "Le garage possède les règles suivantes :\n",
    "1. Il ne peut pas y avoir plus de 5 véhicules au sein du garage\n",
    "2. Le garage peut contenir des véhicules à 2 roues (moto, vélo, trotinette) ou 4 roues (voiture, pot de yaourt)\n",
    "3. Il ne peut pas y avoir plus de 2 véhicules à 4 roues dans le garage\n",
    "\n",
    "Un véhicule possède au moins les caractéristiques suivantes :\n",
    "1. Un identifiant unique sous la forme d'un nombre incrémental\n",
    "2. Un marque\n",
    "3. Un modèle\n",
    "4. Un kilométrage\n",
    "\n",
    "*Il est possible d'avoir d'autres attributs qui peuvent être liés au type de véhicule*\n",
    "\n",
    "## Notions attendues\n",
    "\n",
    "- Classes\n",
    "- Héritage\n",
    "- Exceptions\n",
    "- Enums\n",
    "- Static\n",
    "- Encapsulation\n",
    "- (Chaînage de méthodes/constructeurs)\n",
    "- Interface / classes abstraites\n",
    "- (Utilisation d'une bibliothèque de classe pour les règles métiers)\n",
    "\n",
    "## Optionnels\n",
    "\n",
    "1. Ajouter un système de logs (de base, serilog etc...)\n",
    "2. Sauvegarder l'état du garage dans un fichier local afin de sauvegarder son garage entre les démarrages de l'application\n"
   ]
  }
 ],
 "metadata": {
  "kernelspec": {
   "display_name": ".NET (C#)",
   "language": "C#",
   "name": ".net-csharp"
  },
  "language_info": {
   "name": "C#"
  }
 },
 "nbformat": 4,
 "nbformat_minor": 2
}
