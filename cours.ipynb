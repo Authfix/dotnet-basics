{
 "cells": [
  {
   "cell_type": "markdown",
   "metadata": {
    "dotnet_interactive": {
     "language": "csharp"
    }
   },
   "source": [
    "# Exercice\n",
    "\n",
    "Créer une application console (dotnet 5.0 ou dotnet 6.0) qui permet de gérer un garage virtuel.\n",
    "\n",
    "## Structure\n",
    "\n",
    "L'application doit au moins posséder le class Garage qui est la classe qui va permettre de gérer son garage. Cette classe ne doit pas contenir d'appels à Console.WriteLine\n",
    "\n",
    "## Règles\n",
    "\n",
    "Il est possible d'effectuer les opérations suivantes au sein de l'application :\n",
    "1. Ajouter un nouveau véhicule dans le garage\n",
    "2. Enlever un véhicule du garage\n",
    "3. Mettre à jour l'état d'un véhicule\n",
    "4. Lister les véhicules actuellement dans le garage\n",
    "5. Quitter l'application\n",
    "\n",
    "Le garage possède les règles suivantes :\n",
    "1. Il ne peut pas y avoir plus de 5 véhicules au sein du garage\n",
    "2. Le garage peut contenir des véhicules à 2 roues (moto, vélo, trotinette) ou 4 roues (voiture, pot de yaourt)\n",
    "3. Il ne peut pas y avoir plus de 2 véhicules à 4 roues dans le garage\n",
    "\n",
    "Un véhicule possède au moins les caractéristiques suivantes :\n",
    "1. Un identifiant unique sous la forme d'un nombre incrémental\n",
    "2. Un marque\n",
    "3. Un modèle\n",
    "4. Un kilométrage\n",
    "\n",
    "*Il est possible d'avoir d'autres attributs qui peuvent être liés au type de véhicule*\n",
    "\n",
    "## Notions attendues\n",
    "\n",
    "- Classes\n",
    "- Héritage\n",
    "- Exceptions\n",
    "- Enums\n",
    "- Static\n",
    "- Encapsulation\n",
    "- (Chaînage de méthodes/constructeurs)\n",
    "- Interface / classes abstraites\n",
    "- (Utilisation d'une bibliothèque de classe pour les règles métiers)\n",
    "\n",
    "## Optionnels\n",
    "\n",
    "1. Ajouter un système de logs (de base, serilog etc...)\n",
    "2. Sauvegarder l'état du garage dans un fichier local afin de sauvegarder son garage entre les démarrages de l'application\n"
   ]
  }
 ],
 "metadata": {
  "kernelspec": {
   "display_name": ".NET (C#)",
   "language": "C#",
   "name": ".net-csharp"
  },
  "language_info": {
   "name": "C#"
  }
 },
 "nbformat": 4,
 "nbformat_minor": 2
}
